{
 "cells": [
  {
   "cell_type": "markdown",
   "id": "cfd83fec-a0b0-4cc7-b47a-1bcf66b3f313",
   "metadata": {
    "tags": []
   },
   "source": [
    "# <hl> Week 3 Assignment\n",
    "**Author:** Demetria Murphy\n",
    "    \n",
    "**Description:** In this assignment, I will be exploring both the 1940 and 1960 Census data for race by Census tract to better understand the Black population change both before and after racially restrictive covenants were outlawed.\n",
    "    \n",
    "**Data Source:** Philip J. Ethington, Anne Marie Kooistra, and Edward DeYoung, *Los Angeles County Union Census Tract Data Series, 1940-1990*, Version 1.01. Created with the support of the John Randolph Haynes and Dora Haynes Foundation. (Los Angeles: University of Southern California, 2000)."
   ]
  },
  {
   "cell_type": "code",
   "execution_count": null,
   "id": "54942a0c-57ce-4d83-aa4e-68b4031f21b3",
   "metadata": {},
   "outputs": [],
   "source": [
    "import pandas as pd"
   ]
  },
  {
   "cell_type": "code",
   "execution_count": null,
   "id": "474465bc-fa4e-4dda-82a6-629b44364ea3",
   "metadata": {},
   "outputs": [],
   "source": [
    "import geopandas as gpd"
   ]
  },
  {
   "cell_type": "code",
   "execution_count": null,
   "id": "0b4a2b8d-b79c-4ea1-b8ef-b57ebc286849",
   "metadata": {},
   "outputs": [],
   "source": [
    "df = gpd.read_file('../Data/ethington.zip')"
   ]
  },
  {
   "cell_type": "markdown",
   "id": "5a07e015-3e2f-4e8d-80a0-5f4637a5ba5e",
   "metadata": {},
   "source": [
    "# <hl> Data Exploration"
   ]
  },
  {
   "cell_type": "markdown",
   "id": "fcb83f03-a62d-4b5b-bea1-e566927a60d8",
   "metadata": {},
   "source": [
    "Let's take a first look at the size of our data..."
   ]
  },
  {
   "cell_type": "code",
   "execution_count": null,
   "id": "9c4f9bcc-e0e9-495e-9832-f79e7f747e82",
   "metadata": {
    "tags": []
   },
   "outputs": [],
   "source": [
    "df.head()"
   ]
  },
  {
   "cell_type": "code",
   "execution_count": null,
   "id": "65407ed0-4e4e-4621-966d-5c1b6eb7f3d5",
   "metadata": {},
   "outputs": [],
   "source": [
    "df.shape"
   ]
  },
  {
   "cell_type": "markdown",
   "id": "1299a10e-03e7-40fc-8db0-aae37b5de9ec",
   "metadata": {},
   "source": [
    "This data file contains 252 different variables for 1656 Census tracts in Los Angeles County from 1940-1990. *Wow!* This will be so helpful to understand the surrounding Los Angeles landscape from both before and after racially restrictive covenants became outlawed in 1948."
   ]
  },
  {
   "cell_type": "markdown",
   "id": "37a02c43-e43a-4c25-8926-bf5f726941d4",
   "metadata": {},
   "source": [
    "Let's view a sample:"
   ]
  },
  {
   "cell_type": "code",
   "execution_count": null,
   "id": "7c172cdb-495e-4a65-8959-705eaa743c80",
   "metadata": {},
   "outputs": [],
   "source": [
    "df.sample"
   ]
  },
  {
   "cell_type": "markdown",
   "id": "5187fec2-b69e-4fe0-bfda-40d0df4619e3",
   "metadata": {},
   "source": [
    "What types of data do we have in this dataset?"
   ]
  },
  {
   "cell_type": "code",
   "execution_count": null,
   "id": "32f25972-ef20-4f56-8b46-bc40d37552a4",
   "metadata": {
    "tags": []
   },
   "outputs": [],
   "source": [
    "df.info(verbose=True, null_counts=True)"
   ]
  },
  {
   "cell_type": "code",
   "execution_count": null,
   "id": "f50533c0-36c9-4b6e-bedf-a2f9d7ec8e8d",
   "metadata": {
    "tags": []
   },
   "outputs": [],
   "source": [
    "df.info(verbose=True, show_counts=True)"
   ]
  },
  {
   "cell_type": "markdown",
   "id": "26a0b9da-a2f2-4df9-acf0-a246103883f3",
   "metadata": {},
   "source": [
    "**Important Note:** Despite much of the data characterized as float, we know based on the data sample that it is likely there is a .0 on most if not all the values. This means that the data is really integers, but Python is reading it as \"float64.\""
   ]
  },
  {
   "cell_type": "markdown",
   "id": "606481cb-e0e1-4c01-8554-4af706868ded",
   "metadata": {},
   "source": [
    "Let's take a look at the census tract number column. This will be the identifier for the spatial unit within the scope of this project."
   ]
  },
  {
   "cell_type": "code",
   "execution_count": null,
   "id": "d60203a0-e836-4e1c-86c6-4f43079580ea",
   "metadata": {},
   "outputs": [],
   "source": [
    "df.CTBNA.head()"
   ]
  },
  {
   "cell_type": "markdown",
   "id": "4744ce62-ebc1-46a6-8d50-36f60a1bb1a8",
   "metadata": {},
   "source": [
    "# <hl> Shapefile Attributes"
   ]
  },
  {
   "cell_type": "markdown",
   "id": "0e02a556-e70c-4d5f-8af2-78ef58d797b7",
   "metadata": {},
   "source": [
    "We know our file is a shapefile, so let's import the necessary packages to work with our data file."
   ]
  },
  {
   "cell_type": "code",
   "execution_count": null,
   "id": "91b7fca4-0bbc-40a9-8dfa-beec77c75eee",
   "metadata": {},
   "outputs": [],
   "source": [
    "import os\n",
    "import matplotlib.pyplot as plt"
   ]
  },
  {
   "cell_type": "markdown",
   "id": "a56d0ab9-66f7-43ad-a136-0cc1385cc065",
   "metadata": {},
   "source": [
    "Let me check which version of Python is running here to find supporting documentation for exploring a shapefile."
   ]
  },
  {
   "cell_type": "code",
   "execution_count": null,
   "id": "09bbaad4-f6bf-4a0a-b78e-38109c8531ec",
   "metadata": {},
   "outputs": [],
   "source": [
    "from platform import python_version\n",
    "\n",
    "print(python_version())"
   ]
  },
  {
   "cell_type": "markdown",
   "id": "4a5532e4-0817-413e-bf07-095019d1e36f",
   "metadata": {},
   "source": [
    "Here are the geometric columns used that will plot this spatial dataset."
   ]
  },
  {
   "cell_type": "code",
   "execution_count": null,
   "id": "7d56ec24-f55a-492b-82b0-803fcf9ffe65",
   "metadata": {},
   "outputs": [],
   "source": [
    "df.AREA.head()"
   ]
  },
  {
   "cell_type": "code",
   "execution_count": null,
   "id": "8b2b5b2b-30b6-413e-9334-011db26055d4",
   "metadata": {},
   "outputs": [],
   "source": [
    "df.PERIMETER.head()"
   ]
  },
  {
   "cell_type": "markdown",
   "id": "12be6197-5f9b-4b4d-9c4e-c823a45ccb6f",
   "metadata": {},
   "source": [
    "Let's run an initial plot."
   ]
  },
  {
   "cell_type": "code",
   "execution_count": null,
   "id": "078749eb-9823-470f-b1df-8562c2092106",
   "metadata": {},
   "outputs": [],
   "source": [
    "df.plot()\n",
    "plt.show()"
   ]
  },
  {
   "cell_type": "markdown",
   "id": "fecb5da3-898d-4861-85b5-4c2d499e09bc",
   "metadata": {},
   "source": [
    "This shape is familiar...the shape of Los Angeles County. Seems like our data is working!"
   ]
  },
  {
   "cell_type": "markdown",
   "id": "4b01b761-4ff3-46dc-afc7-af359f39a50c",
   "metadata": {},
   "source": [
    "# <hl> Dropping Columns \n",
    " 1. Null \n",
    " 2. by Name (to columns used on variable list]"
   ]
  },
  {
   "cell_type": "code",
   "execution_count": null,
   "id": "bccb6fd2-bdfa-4cf2-9232-e9aa41302f5e",
   "metadata": {},
   "outputs": [],
   "source": [
    "df.columns[df.all()].tolist()"
   ]
  },
  {
   "cell_type": "markdown",
   "id": "0b0d86b7-bbf3-4334-a426-2230d07ea4a3",
   "metadata": {},
   "source": [
    "Some of these are important columns such as 'P40T', 'AREA', 'PERIMETER' and 'geometry' which we need to plot. *Why are these showing up as null?* Let's try dropping all the columns we do not need, all variables from 1970-1990, by name."
   ]
  },
  {
   "cell_type": "code",
   "execution_count": null,
   "id": "318b2af3-f0dc-410b-8bd5-44f5772b1dfe",
   "metadata": {},
   "outputs": [],
   "source": [
    "columns_to_drop70 = ['P70T','P70WNH', 'P70BNH', 'P70ONH','P70HIS', 'A700004', 'A700517', 'A701864', 'A7065UP', 'A70MEDN', 'M70SINGL', 'M70MAR', 'M70OTH', 'E70C', 'E70H', 'E70OTH', 'O70WC', 'O70BC', 'R70SH65', 'R70SC65', 'R70OT65', 'H70TOT', 'H70SFU', 'H70OTH', 'INC70MED', 'H70MVL', 'H70MRN']\n",
    "columns_to_drop80 = ['P80T', 'P80WNH', 'P80BNH', 'P80ONH', 'P80HIS', 'A800004', 'A800517', 'A801864', 'A8065UP', 'A80MEDN', 'M80SINGL', 'M80MAR', 'M80OTH', 'E80C', 'E80H', 'E80OTH', 'O80WC', 'O80BC', 'R80SH75', 'R80SC75', 'R80OT75', 'H80TOT', 'H80SFU', 'H80OTH', 'INC80MED', 'H80MVL', 'H80MRN']\n",
    "columns_to_drop90 = ['P90T', 'P90WNH', 'P90BNH', 'P90ONH', 'P90HIS', 'A900004', 'A900517', 'A901864', 'A9065UP', 'A90MEDN', 'M90SINGL', 'M90MAR', 'M90OTH', 'E90C', 'E90H', 'E90OTH', 'O90WC', 'O90BC', 'R90SH85', 'R90SC85', 'R90OT85', 'H90TOT', 'H90SFU', 'H90OTH', 'INC90MED', 'H90MVL']"
   ]
  },
  {
   "cell_type": "code",
   "execution_count": null,
   "id": "c2cd3961-f57e-46ae-84e6-0feb3625ceeb",
   "metadata": {},
   "outputs": [],
   "source": [
    "df = df.drop(columns_to_drop70,axis=1)\n",
    "df.head()"
   ]
  },
  {
   "cell_type": "code",
   "execution_count": null,
   "id": "0d072cb5-fe29-476c-8105-54cd50bbbee3",
   "metadata": {},
   "outputs": [],
   "source": [
    "df = df.drop(columns_to_drop80,axis=1)\n",
    "df.head()"
   ]
  },
  {
   "cell_type": "code",
   "execution_count": null,
   "id": "f72c1dbe-2c9f-4a13-a19d-16ae1e3ef1ac",
   "metadata": {},
   "outputs": [],
   "source": [
    "df = df.drop(columns_to_drop90,axis=1)\n",
    "df.head()"
   ]
  },
  {
   "cell_type": "code",
   "execution_count": null,
   "id": "4ebb60f6-cc99-4537-9f03-982bfa22860d",
   "metadata": {
    "tags": []
   },
   "outputs": [],
   "source": [
    "df.columns.to_list()"
   ]
  },
  {
   "cell_type": "code",
   "execution_count": null,
   "id": "418e9dda-19ae-4c86-8bf1-8f812d7e3331",
   "metadata": {
    "tags": []
   },
   "outputs": [],
   "source": [
    "columns_to_drop = ['P40WNH', #to drop all other columns\n",
    " 'P40BNH',\n",
    " 'P40ONH',\n",
    " 'P40HIS',\n",
    " 'P40TW',\n",
    " 'P40NATW',\n",
    " 'P40FBW',\n",
    " 'P40TOTNW',\n",
    " 'P40NBNW',\n",
    " 'P40MEX',\n",
    " 'P40CSA',\n",
    " 'E40H',\n",
    " 'E40C',\n",
    " 'O40WC',\n",
    " 'O40BC',\n",
    " 'O4001',\n",
    " 'O4002',\n",
    " 'O4003',\n",
    " 'O4004',\n",
    " 'O4005',\n",
    " 'O4006',\n",
    " 'O4007',\n",
    " 'O4008',\n",
    " 'O4009',\n",
    " 'O4010',\n",
    " 'O4011',\n",
    " 'O4012',\n",
    " 'O4013',\n",
    " 'O4005SPS',\n",
    " 'O4005PRS',\n",
    " 'H40TOT',\n",
    " 'H40NWT',\n",
    " 'H40OWN',\n",
    " 'H40NWO',\n",
    " 'H40RNT',\n",
    " 'H40WRN',\n",
    " 'H40NRN',\n",
    " 'H40MVL',\n",
    " 'H40MRN',\n",
    " 'P50WNH',\n",
    " 'P50BNH',\n",
    " 'P50ONH',\n",
    " 'P50HIS',\n",
    " 'P50TW',\n",
    " 'P50NATW',\n",
    " 'P50FBW',\n",
    " 'P50TOTNW',\n",
    " 'P50NBNW',\n",
    " 'P50SST',\n",
    " 'P50SSN',\n",
    " 'P50SSFB',\n",
    " 'P50MEX',\n",
    " 'P50CSA',\n",
    " 'E50H',\n",
    " 'E50C',\n",
    " 'O50WC',\n",
    " 'O50BC',\n",
    " 'O5001',\n",
    " 'O5001M',\n",
    " 'O5001F',\n",
    " 'O5002',\n",
    " 'O5002M',\n",
    " 'O5002F',\n",
    " 'O5003',\n",
    " 'O5003M',\n",
    " 'O5003F',\n",
    " 'O5004',\n",
    " 'O5004M',\n",
    " 'O5004F',\n",
    " 'O5005PRM',\n",
    " 'O5005PRF',\n",
    " 'O5005',\n",
    " 'O5006M',\n",
    " 'O5006F',\n",
    " 'O5006',\n",
    " 'O5007CLM',\n",
    " 'O5007CLF',\n",
    " 'O5007SLM',\n",
    " 'O5007SLF',\n",
    " 'O5007',\n",
    " 'O5008M',\n",
    " 'O5008F',\n",
    " 'O5008',\n",
    " 'O5009M',\n",
    " 'O5009F',\n",
    " 'O5009',\n",
    " 'O5010M',\n",
    " 'O5010F',\n",
    " 'O5010',\n",
    " 'O5011M',\n",
    " 'O5011F',\n",
    " 'O5011',\n",
    " 'O5012M',\n",
    " 'O5012F',\n",
    " 'O5012',\n",
    " 'O5013M',\n",
    " 'O5013F',\n",
    " 'O5013',\n",
    " 'H50TOT',\n",
    " 'H50NWT',\n",
    " 'H50OWN',\n",
    " 'H50NWO',\n",
    " 'H50RNT',\n",
    " 'H50NRN',\n",
    " 'H50MVL',\n",
    " 'H50MRN',\n",
    " 'P60WNH',\n",
    " 'P60BNH',\n",
    " 'P60ONH',\n",
    " 'P60HIS',\n",
    " 'P60TW',\n",
    " 'P60TOTNW',\n",
    " 'P60NBNW',\n",
    " 'P60SST',\n",
    " 'P60SSN',\n",
    " 'P60SSFB',\n",
    " 'P60MEX',\n",
    " 'E60H',\n",
    " 'E60C',\n",
    " 'O60WC',\n",
    " 'O60BC',\n",
    " 'O6001',\n",
    " 'O6002',\n",
    " 'O6003',\n",
    " 'O6004',\n",
    " 'O6005PRM',\n",
    " 'O6005PRF',\n",
    " 'O6005',\n",
    " 'O6006M',\n",
    " 'O6006F',\n",
    " 'O6006',\n",
    " 'O6007CLM',\n",
    " 'O6007CLF',\n",
    " 'O6007SLM',\n",
    " 'O6007SLF',\n",
    " 'O6007',\n",
    " 'O6008M',\n",
    " 'O6008F',\n",
    " 'O6008',\n",
    " 'O6009M',\n",
    " 'O6009F',\n",
    " 'O6009',\n",
    " 'O6010M',\n",
    " 'O6010F',\n",
    " 'O6010',\n",
    " 'O6011M',\n",
    " 'O6011F',\n",
    " 'O6011',\n",
    " 'O6012M',\n",
    " 'O6012F',\n",
    " 'O6012',\n",
    " 'O6013M',\n",
    " 'O6013F',\n",
    " 'O6013',\n",
    " 'H60TOT',\n",
    " 'H60NWT',\n",
    " 'H60OWN',\n",
    " 'H60NWO',\n",
    " 'H60RNT',\n",
    " 'H60NRN',\n",
    " 'H60MVL',\n",
    " 'H60MRN']"
   ]
  },
  {
   "cell_type": "code",
   "execution_count": null,
   "id": "0a2768a4-2127-4e17-8bc4-cf3765278d52",
   "metadata": {},
   "outputs": [],
   "source": [
    "df = df.drop(columns_to_drop,axis=1)\n",
    "df.head()"
   ]
  },
  {
   "cell_type": "markdown",
   "id": "51fbc2ec-3a12-4852-935c-5225a8c686f0",
   "metadata": {
    "tags": []
   },
   "source": [
    "# <hl> Rename Columns"
   ]
  },
  {
   "cell_type": "markdown",
   "id": "1c2bbbb9-213d-4b14-9c95-93ef826acae8",
   "metadata": {},
   "source": [
    "Let's clean up the data we are using for this inquiry."
   ]
  },
  {
   "cell_type": "code",
   "execution_count": null,
   "id": "90b0c121-5093-440d-8fa4-55cebc5510fc",
   "metadata": {
    "tags": []
   },
   "outputs": [],
   "source": [
    "columns = list(df)\n",
    "columns"
   ]
  },
  {
   "cell_type": "code",
   "execution_count": null,
   "id": "9eee9ce0-6981-4132-a03a-e90f8adaed8d",
   "metadata": {},
   "outputs": [],
   "source": [
    "df.columns = ['AREA',\n",
    " 'PERIMETER',\n",
    "  'Census_tract',\n",
    " 'Pop_total_40',\n",
    " 'Pop_black_40',\n",
    " 'Pop_total_50',\n",
    " 'Pop_black_50',\n",
    " 'Pop_total_60',\n",
    " 'Pop_black_60',\n",
    " 'geometry']"
   ]
  },
  {
   "cell_type": "code",
   "execution_count": null,
   "id": "d2aca7ee-943d-4a76-aead-b8840986e7c4",
   "metadata": {
    "tags": []
   },
   "outputs": [],
   "source": [
    "df.head()"
   ]
  },
  {
   "cell_type": "markdown",
   "id": "65c4b87f-bb7e-476f-97e7-2b2a05ad63aa",
   "metadata": {},
   "source": [
    "# <hl> Simple Stats and Plots: Exploring Black Los Angeles County 1940-1960"
   ]
  },
  {
   "cell_type": "markdown",
   "id": "92c54e9e-5bcc-4aa6-b4f6-7248f6fd241b",
   "metadata": {},
   "source": [
    "Let's first explore the overall population in LA County."
   ]
  },
  {
   "cell_type": "code",
   "execution_count": null,
   "id": "2b452027-5ef9-4300-9860-2b26bc78b2e9",
   "metadata": {},
   "outputs": [],
   "source": [
    "df['Pop_total_40'].describe()"
   ]
  },
  {
   "cell_type": "code",
   "execution_count": null,
   "id": "1042d735-a4dc-4307-a2c8-a48e35242634",
   "metadata": {},
   "outputs": [],
   "source": [
    "df['Pop_total_50'].describe()"
   ]
  },
  {
   "cell_type": "code",
   "execution_count": null,
   "id": "5ff17f1e-2c06-481e-91b1-c6fb95b3c376",
   "metadata": {},
   "outputs": [],
   "source": [
    "df['Pop_total_60'].describe()"
   ]
  },
  {
   "cell_type": "code",
   "execution_count": null,
   "id": "6c884888-19ae-401e-9c8f-05d368292c21",
   "metadata": {},
   "outputs": [],
   "source": [
    "df['Pop_total_40'].plot.hist(bins=50)"
   ]
  },
  {
   "cell_type": "code",
   "execution_count": null,
   "id": "72dc6603-b1ef-4e8b-8fa2-22d2338020c7",
   "metadata": {},
   "outputs": [],
   "source": [
    "df['Pop_total_50'].plot.hist(bins=50)"
   ]
  },
  {
   "cell_type": "code",
   "execution_count": null,
   "id": "6951368f-1c87-4d3b-bc67-e8546240ed13",
   "metadata": {},
   "outputs": [],
   "source": [
    "df['Pop_total_60'].plot.hist(bins=50)"
   ]
  },
  {
   "cell_type": "markdown",
   "id": "a3620e7b-a5df-4aaa-a3cb-35dc2f4918e4",
   "metadata": {},
   "source": [
    "It looks like the mean overall population per Census Tract is growing from ~1697 in 1940 to ~3661 in 1960. The histograms show am increase in number of Census tracts with denser populations showing just how intense this population growth was during this post-war time. \n",
    "\n",
    "***How does the overall Black population change?***"
   ]
  },
  {
   "cell_type": "code",
   "execution_count": null,
   "id": "e4303174-999c-46c6-873e-e9f3bc882665",
   "metadata": {},
   "outputs": [],
   "source": [
    "df['Pop_black_40'].describe()"
   ]
  },
  {
   "cell_type": "code",
   "execution_count": null,
   "id": "e6dbe190-40b4-4a14-9fc6-9b983a1ba0a1",
   "metadata": {},
   "outputs": [],
   "source": [
    "df['Pop_black_50'].describe()"
   ]
  },
  {
   "cell_type": "code",
   "execution_count": null,
   "id": "046b2090-1cab-4756-a377-7844a77cf4c4",
   "metadata": {},
   "outputs": [],
   "source": [
    "df['Pop_black_60'].describe()"
   ]
  },
  {
   "cell_type": "code",
   "execution_count": null,
   "id": "d8b1acf2-1d32-4bd7-b667-95a5c9115ac9",
   "metadata": {},
   "outputs": [],
   "source": [
    "df['Pop_black_40'].plot.hist(bins=10)"
   ]
  },
  {
   "cell_type": "code",
   "execution_count": null,
   "id": "33d41f57-f29e-46ca-8922-fb49341e4bd0",
   "metadata": {},
   "outputs": [],
   "source": [
    "df['Pop_black_50'].plot.hist(bins=10)"
   ]
  },
  {
   "cell_type": "code",
   "execution_count": null,
   "id": "d9db53e4-05ec-4ea1-a32e-3962a33f3ea5",
   "metadata": {},
   "outputs": [],
   "source": [
    "df['Pop_black_60'].plot.hist(bins=10)"
   ]
  },
  {
   "cell_type": "markdown",
   "id": "229ae85f-beca-4d45-9daa-b4760cde11a3",
   "metadata": {},
   "source": [
    "Black population continues with the overall trend and grows from an average of ~45 per Census tract in 1940 to ~278 Black residents per Census tract. The histograms show us that there were few Census tracts with dense Black populations and they slightly grew from 1940 to 1960."
   ]
  },
  {
   "cell_type": "markdown",
   "id": "bffa9a88-598a-4c27-a87c-b8d76c52fb2e",
   "metadata": {},
   "source": [
    "# <hl> Check Data for Null/Missing Values"
   ]
  },
  {
   "cell_type": "code",
   "execution_count": null,
   "id": "c7a89b6d-83fb-42c4-b1c8-a330b6974b95",
   "metadata": {},
   "outputs": [],
   "source": [
    "len(df)"
   ]
  },
  {
   "cell_type": "code",
   "execution_count": null,
   "id": "e0209b1b-7884-447a-b3f2-36347f90d2bc",
   "metadata": {},
   "outputs": [],
   "source": [
    "df.isna().sum()"
   ]
  },
  {
   "cell_type": "markdown",
   "id": "42a8c855-de45-40a9-b866-61519b6cdb3b",
   "metadata": {},
   "source": [
    "Awesome. This means that none of our data has null values. Let's continue exploring this data."
   ]
  },
  {
   "cell_type": "markdown",
   "id": "c6e29b96-a010-4dd8-8e99-f122ee623252",
   "metadata": {},
   "source": [
    "# <hl> Sorting"
   ]
  },
  {
   "cell_type": "markdown",
   "id": "604c750d-49a9-4f4a-9a5f-646fbd706149",
   "metadata": {},
   "source": [
    "Based on our previous exploration, ***which Census tracts have the highest Black population?*** In 1940, this will give us a sense of where Black people could live. In 1950 and 1960, this will give us a sense of both where Black people lived after the outlaw of racially restrictive covenants. *What correlations are there with our Green Book data locations?*"
   ]
  },
  {
   "cell_type": "code",
   "execution_count": null,
   "id": "12973ac6-9553-4e05-afe3-343de6f6fe90",
   "metadata": {},
   "outputs": [],
   "source": [
    "#Let's start with 1940.\n",
    "df_sorted = df.sort_values(by='Pop_black_40',ascending = False)"
   ]
  },
  {
   "cell_type": "code",
   "execution_count": null,
   "id": "877d14b9-0e97-4ff2-9592-4380a8a085de",
   "metadata": {},
   "outputs": [],
   "source": [
    "df_sorted[['Census_tract','Pop_black_40']].head(10)"
   ]
  },
  {
   "cell_type": "code",
   "execution_count": null,
   "id": "7bbf23e2-7562-48a9-85b8-4875fed71881",
   "metadata": {},
   "outputs": [],
   "source": [
    "df_sorted.head(10).plot.bar(x='Census_tract',\n",
    "                            y='Pop_black_40')"
   ]
  },
  {
   "cell_type": "code",
   "execution_count": null,
   "id": "2917d836-704b-44d2-8dc6-150e4d6084d3",
   "metadata": {},
   "outputs": [],
   "source": [
    "df_sorted.head(10).plot.bar(x='Census_tract',\n",
    "                            y='Pop_black_40',\n",
    "                            title='Top 10 Census Tracts with Highest Black Population in 1940 Los Angeles County')"
   ]
  },
  {
   "cell_type": "markdown",
   "id": "8b230de5-94bb-4a18-bdc6-cab074f10316",
   "metadata": {},
   "source": [
    "***How does this compare to overall population in 1940?***"
   ]
  },
  {
   "cell_type": "code",
   "execution_count": null,
   "id": "24f7a697-0f7b-425e-949d-3eeb9a43f08d",
   "metadata": {},
   "outputs": [],
   "source": [
    "df_sorted40 = df.sort_values(by='Pop_total_40',ascending = False)"
   ]
  },
  {
   "cell_type": "code",
   "execution_count": null,
   "id": "a492d691-850d-4be5-94fc-f59d842795f2",
   "metadata": {
    "tags": []
   },
   "outputs": [],
   "source": [
    "df_sorted40[['Census_tract','Pop_total_40']].head(10)"
   ]
  },
  {
   "cell_type": "code",
   "execution_count": null,
   "id": "c6bca6cf-39df-4a94-a850-819e80b56eb8",
   "metadata": {
    "tags": []
   },
   "outputs": [],
   "source": [
    "df_sorted40.head(10).plot.bar(x='Census_tract',\n",
    "                            y='Pop_total_40')"
   ]
  },
  {
   "cell_type": "code",
   "execution_count": null,
   "id": "ef8abe56-77cd-497c-956d-ac5c356e374d",
   "metadata": {
    "tags": []
   },
   "outputs": [],
   "source": [
    "df_sorted40.head(10).plot.bar(x='Census_tract',\n",
    "                            y='Pop_total_40',\n",
    "                            title='Top 10 Census Tracts with Highest Population in 1940 Los Angeles County')"
   ]
  },
  {
   "cell_type": "markdown",
   "id": "2f4360bb-17cf-4eaa-a87e-a9159a1fd296",
   "metadata": {},
   "source": [
    "The 4th densest Census tract overall, 2260, has the highest Black population. *I wonder where that is.*"
   ]
  },
  {
   "cell_type": "markdown",
   "id": "aae625b7-88c5-4cc5-9e80-d05e1401fa31",
   "metadata": {},
   "source": [
    "Now, let's explore the 1960 data for overall and Black population to see if there are any other connections we can make."
   ]
  },
  {
   "cell_type": "code",
   "execution_count": null,
   "id": "6d91bbfd-f39e-4aaf-a083-0e0c0479d8b2",
   "metadata": {},
   "outputs": [],
   "source": [
    "df_sorted60 = df.sort_values(by='Pop_total_60',ascending = False)"
   ]
  },
  {
   "cell_type": "code",
   "execution_count": null,
   "id": "c3155bc2-788d-40b6-8b9d-cfeead1eecb3",
   "metadata": {},
   "outputs": [],
   "source": [
    "df_sorted60[['Census_tract','Pop_total_60']].head(10)"
   ]
  },
  {
   "cell_type": "code",
   "execution_count": null,
   "id": "d898b3e9-b045-4cad-85e2-b880654300f6",
   "metadata": {},
   "outputs": [],
   "source": [
    "df_sorted60.head(10).plot.bar(x='Census_tract',\n",
    "                            y='Pop_total_60')"
   ]
  },
  {
   "cell_type": "code",
   "execution_count": null,
   "id": "6af3d5ff-13b4-44f5-a1c5-bbea13a1bb67",
   "metadata": {},
   "outputs": [],
   "source": [
    "df_sorted60.head(10).plot.bar(x='Census_tract',\n",
    "                            y='Pop_total_60',\n",
    "                            title='Top 10 Census Tracts with Highest Population in 1960 Los Angeles County')"
   ]
  },
  {
   "cell_type": "markdown",
   "id": "f8bdf335-ed95-4845-876a-f36389ce5134",
   "metadata": {},
   "source": [
    "By estimate, it appears as though the densest Census tract has changed to 2780 in 1960 and appears slightly less dense than in 1940. Let's explore how the Black population has changed."
   ]
  },
  {
   "cell_type": "code",
   "execution_count": null,
   "id": "288bcd36-83b7-4191-8999-3123588ee0a7",
   "metadata": {},
   "outputs": [],
   "source": [
    "df_sorted60b = df.sort_values(by='Pop_black_60',ascending = False)"
   ]
  },
  {
   "cell_type": "code",
   "execution_count": null,
   "id": "3d7ab15c-7fd1-4199-9219-b2d8e3488a81",
   "metadata": {},
   "outputs": [],
   "source": [
    "df_sorted60b[['Census_tract','Pop_black_60']].head(10)"
   ]
  },
  {
   "cell_type": "code",
   "execution_count": null,
   "id": "68f9fbcd-a3d4-4980-8164-30e8501cdfdf",
   "metadata": {},
   "outputs": [],
   "source": [
    "df_sorted60b.head(10).plot.bar(x='Census_tract',\n",
    "                            y='Pop_black_60')"
   ]
  },
  {
   "cell_type": "code",
   "execution_count": null,
   "id": "b68a9bad-3111-4eb2-a484-11bb84b931ee",
   "metadata": {},
   "outputs": [],
   "source": [
    "df_sorted60b.head(10).plot.bar(x='Census_tract',\n",
    "                            y='Pop_black_60',\n",
    "                            title='Top 10 Census Tracts with Highest Population in 1960 Los Angeles County')"
   ]
  },
  {
   "cell_type": "markdown",
   "id": "3e675c60-728e-49bc-b342-7d04a4ab3b02",
   "metadata": {},
   "source": [
    "It also appears that many of the Census tracts with the highest Black population have changed and also have reached above 6000 people, denser than in 1940. At a cursory glance, it seems as though many Black residents relocated to other neighborhoods in post-War Los Angeles."
   ]
  },
  {
   "cell_type": "markdown",
   "id": "9ebf5b1f-451d-47da-9588-3524d7def60b",
   "metadata": {},
   "source": [
    "***Where did Black residents move?***"
   ]
  },
  {
   "cell_type": "markdown",
   "id": "621e43b9-de5a-4d08-8691-f7b69b173ab8",
   "metadata": {},
   "source": [
    "*Should we filter out the census tracts without any residents before moving on to mapping?*"
   ]
  },
  {
   "cell_type": "code",
   "execution_count": null,
   "id": "d5fb0f8f-34dc-4f71-8314-fb168842370c",
   "metadata": {},
   "outputs": [],
   "source": [
    "df[df['Pop_total_40']==0]"
   ]
  },
  {
   "cell_type": "code",
   "execution_count": null,
   "id": "be9a7a0f-d747-44f6-b11d-804778c979d3",
   "metadata": {},
   "outputs": [],
   "source": [
    "df[df['Pop_total_50']==0]"
   ]
  },
  {
   "cell_type": "code",
   "execution_count": null,
   "id": "65612de4-2ff9-4c57-bbaf-529d70517fe3",
   "metadata": {},
   "outputs": [],
   "source": [
    "df[df['Pop_total_60']==0]"
   ]
  },
  {
   "cell_type": "markdown",
   "id": "a466f897-9a1a-4e05-89b6-b561bef37ec4",
   "metadata": {},
   "source": [
    "**Important Caveat:** Given that we are trying to understand the population change dynamics over a period of time, it isn't smart for us to erase the Census tracts with 0 especially given the population is not consistent in that Census tract over time."
   ]
  },
  {
   "cell_type": "markdown",
   "id": "fb91e636-db6f-403a-baf9-8e9865205bb2",
   "metadata": {},
   "source": [
    "# <hl> Adding Percentage Black Column"
   ]
  },
  {
   "cell_type": "markdown",
   "id": "ec5d8f08-7222-4415-a515-ac35b3e662e9",
   "metadata": {},
   "source": [
    "Adding this column will give us a better sense of the overall percentage of Black residents to better compare Census tracts."
   ]
  },
  {
   "cell_type": "code",
   "execution_count": null,
   "id": "6fdc20d8-7a1b-480b-ab68-22398c439436",
   "metadata": {},
   "outputs": [],
   "source": [
    "df['Pct_black_40'] = ''\n",
    "df['Pct_black_40'] = df['Pop_black_40']/df['Pop_total_40'] *100"
   ]
  },
  {
   "cell_type": "code",
   "execution_count": null,
   "id": "644562b7-4fa5-4144-a175-9c0357507913",
   "metadata": {},
   "outputs": [],
   "source": [
    "df['Pct_black_50'] = ''\n",
    "df['Pct_black_50'] = df['Pop_black_50']/df['Pop_total_50'] *100"
   ]
  },
  {
   "cell_type": "code",
   "execution_count": null,
   "id": "7392e443-e910-4d1a-9239-33d0f6b04531",
   "metadata": {},
   "outputs": [],
   "source": [
    "df['Pct_black_60'] = ''\n",
    "df['Pct_black_60'] = df['Pop_black_60']/df['Pop_total_60'] *100"
   ]
  },
  {
   "cell_type": "code",
   "execution_count": null,
   "id": "8e54b220-5035-46b8-b0e1-f94f8fef689f",
   "metadata": {
    "tags": []
   },
   "outputs": [],
   "source": [
    "df.head()"
   ]
  },
  {
   "cell_type": "markdown",
   "id": "ddc194bc-7728-486b-8e11-2db43feea97c",
   "metadata": {},
   "source": [
    "# <hl> Plotting and Mapping"
   ]
  },
  {
   "cell_type": "markdown",
   "id": "c219aaa2-aabe-45f3-8395-43d77ea09607",
   "metadata": {},
   "source": [
    "**Mapping 1940:**"
   ]
  },
  {
   "cell_type": "code",
   "execution_count": null,
   "id": "9cac3eab-6542-4819-ba16-a7d7ee1648a7",
   "metadata": {},
   "outputs": [],
   "source": [
    "df.plot('Pct_black_40')"
   ]
  },
  {
   "cell_type": "markdown",
   "id": "608e67ff-a4ff-4d53-990f-1f88c44d420d",
   "metadata": {},
   "source": [
    "At first glance, we can see that Black population in 1940 was solely concentrated to the urban core."
   ]
  },
  {
   "cell_type": "code",
   "execution_count": null,
   "id": "f407edf2-4c6e-4594-9ea7-12729d6c051a",
   "metadata": {},
   "outputs": [],
   "source": [
    "df.geometry"
   ]
  },
  {
   "cell_type": "code",
   "execution_count": null,
   "id": "3473f13c-e12c-4aec-bdcf-a73198c675c8",
   "metadata": {
    "tags": []
   },
   "outputs": [],
   "source": [
    "df.plot(\n",
    "            figsize=(20,12),   #size of the plot (a bit bigger than the default)\n",
    "            column = 'Pct_black_40',   # column that defines the color of the dots\n",
    "            legend = True,     # add a legend           \n",
    "            legend_kwds={\n",
    "               'loc': 'upper right',\n",
    "               'bbox_to_anchor':(1,1)\n",
    "            }                  # this puts the legend to the side\n",
    "       )"
   ]
  },
  {
   "cell_type": "code",
   "execution_count": null,
   "id": "c002042c-c7a7-418d-98b1-4e74994150af",
   "metadata": {},
   "outputs": [],
   "source": [
    "import folium"
   ]
  },
  {
   "cell_type": "code",
   "execution_count": null,
   "id": "07de3c5c-6130-41e9-ab1f-042fd4426e2c",
   "metadata": {},
   "outputs": [],
   "source": [
    "latitude = 34.0522\n",
    "latitude"
   ]
  },
  {
   "cell_type": "code",
   "execution_count": null,
   "id": "81dfa9bf-0248-4c4b-9843-2445b0434b31",
   "metadata": {},
   "outputs": [],
   "source": [
    "longitude = -118.2437\n",
    "longitude"
   ]
  },
  {
   "cell_type": "code",
   "execution_count": null,
   "id": "f5c4340b-daf1-4945-b818-e3eca73f2858",
   "metadata": {},
   "outputs": [],
   "source": [
    "#now let's adjust the center of the map to LA\n",
    "m = folium.Map(location=(latitude, longitude))\n",
    "m"
   ]
  },
  {
   "cell_type": "markdown",
   "id": "b28d3106-1088-4b17-94c0-e79f8a2d37af",
   "metadata": {},
   "source": [
    "Let's take a look at the breaks in the map to see what looks best."
   ]
  },
  {
   "cell_type": "code",
   "execution_count": null,
   "id": "e1f5580a-fff2-4722-bfa8-6db1717b56e5",
   "metadata": {},
   "outputs": [],
   "source": [
    "df.plot(figsize=(12,10),\n",
    "                 column='Pct_black_40',\n",
    "                 legend=True, \n",
    "                 scheme='NaturalBreaks')"
   ]
  },
  {
   "cell_type": "code",
   "execution_count": null,
   "id": "4047d49a-f96a-4464-9c71-01ca31552b31",
   "metadata": {},
   "outputs": [],
   "source": [
    "#let's make this one a bit bigger\n",
    "df.plot(figsize=(35,30),\n",
    "                 column='Pct_black_40',\n",
    "                 legend=True, \n",
    "                 scheme='equal_interval')"
   ]
  },
  {
   "cell_type": "code",
   "execution_count": null,
   "id": "73dc23c8-f01a-4ea1-a773-cc54425125da",
   "metadata": {},
   "outputs": [],
   "source": [
    "df.plot(figsize=(12,10),\n",
    "                 column='Pct_black_40',\n",
    "                 legend=True, \n",
    "                 scheme='quantiles')"
   ]
  },
  {
   "cell_type": "markdown",
   "id": "c3dea4e9-a0fa-43a1-b29e-2596578e0b62",
   "metadata": {},
   "source": [
    "A map with natural breaks gives us a better sense of the spread of our data, so we'll use that."
   ]
  },
  {
   "cell_type": "markdown",
   "id": "7b48aa09-1a3a-45e4-8434-cbfc8fd948ea",
   "metadata": {},
   "source": [
    "# <hl> How does 1940 compare with the 1960 Black population in Los Angeles County?"
   ]
  },
  {
   "cell_type": "code",
   "execution_count": null,
   "id": "0959168b-4c71-4287-8146-b0fde204e4a3",
   "metadata": {},
   "outputs": [],
   "source": [
    "df.plot(figsize=(12,10),\n",
    "                 column='Pct_black_60',\n",
    "                 legend=True, \n",
    "                 scheme='NaturalBreaks')"
   ]
  },
  {
   "cell_type": "code",
   "execution_count": null,
   "id": "ccbc3025-f41a-463b-b151-045750bfb27d",
   "metadata": {},
   "outputs": [],
   "source": [
    "# create the 1x2 subplots\n",
    "fig, axs = plt.subplots(1, 2, figsize=(15, 12))\n",
    "\n",
    "# name each subplot\n",
    "ax1, ax2 = axs\n",
    "\n",
    "# 1940 map on the left\n",
    "df.plot(column='Pct_black_40', \n",
    "            cmap='RdYlGn_r', \n",
    "            scheme='user_defined',\n",
    "            classification_kwds={'bins':[20,40,60,80,100]},\n",
    "            edgecolor='white', \n",
    "            linewidth=0., \n",
    "            alpha=0.75, \n",
    "            ax=ax1, # this assigns the map to the subplot,\n",
    "            legend=True\n",
    "           )\n",
    "\n",
    "ax1.axis(\"off\")\n",
    "ax1.set_title(\"Percentage of Black Population in Los Angeles County, 1940\")\n",
    "\n",
    "# 1960 on the right\n",
    "df.plot(column='Pct_black_60', \n",
    "            cmap='RdYlGn_r', \n",
    "            scheme='user_defined',\n",
    "            classification_kwds={'bins':[20,40,60,80,100]},\n",
    "            edgecolor='white', \n",
    "            linewidth=0., \n",
    "            alpha=0.75, \n",
    "            ax=ax2, # this assigns the map to the subplot\n",
    "            legend=True\n",
    "           )\n",
    "\n",
    "ax2.axis(\"off\")\n",
    "ax2.set_title(\"Percentage of Black Population in Los Angeles County, 1960\")"
   ]
  },
  {
   "cell_type": "markdown",
   "id": "5319b223-8f70-4982-afc7-4321d398456c",
   "metadata": {},
   "source": [
    "Looks like there was some movement further outside the true urban core from 1940 to 1960, as expected with this shift in legislation. Additionally, there were more Census tracts in 1960 with 80% or higher Black population."
   ]
  },
  {
   "cell_type": "markdown",
   "id": "827570e1-0f4c-43a3-b42e-5f4f252ab5b5",
   "metadata": {},
   "source": [
    "# <hl> How many Census tracts are more than 80% Black in 1940 vs 1960?"
   ]
  },
  {
   "cell_type": "code",
   "execution_count": null,
   "id": "0eebb04e-ee06-475d-a5e6-c27cf947bffc",
   "metadata": {
    "tags": []
   },
   "outputs": [],
   "source": [
    "df[df.Pct_black_40 > 80]"
   ]
  },
  {
   "cell_type": "code",
   "execution_count": null,
   "id": "1eb6fe50-5372-4a11-bc75-cfcc61f5fdf1",
   "metadata": {},
   "outputs": [],
   "source": [
    "df[df.Pct_black_40 > 80].count()"
   ]
  },
  {
   "cell_type": "markdown",
   "id": "578cbebf-7a32-4455-800b-41a26ff436de",
   "metadata": {},
   "source": [
    "There were **3 Census tracts** in 1940 that had 80% or more Black residents.\n",
    "\n",
    "Let's plot these."
   ]
  },
  {
   "cell_type": "code",
   "execution_count": null,
   "id": "40b36604-33fa-4edb-909c-be7e436dfbba",
   "metadata": {},
   "outputs": [],
   "source": [
    "df[df.Pct_black_40 > 80].plot(figsize=(12,10),\n",
    "                                             column='Pct_black_40',\n",
    "                                             legend=True, \n",
    "                                             scheme='NaturalBreaks')"
   ]
  },
  {
   "cell_type": "code",
   "execution_count": null,
   "id": "0d81ac8a-eb97-4bd5-89e4-ba51b2e17727",
   "metadata": {},
   "outputs": [],
   "source": [
    "df[df.Pct_black_60 > 80]"
   ]
  },
  {
   "cell_type": "code",
   "execution_count": null,
   "id": "06cab74e-4840-49f9-99e1-1bf9eddb7bda",
   "metadata": {},
   "outputs": [],
   "source": [
    "df[df.Pct_black_60 > 80].count()"
   ]
  },
  {
   "cell_type": "markdown",
   "id": "0db6cf01-c864-4afe-8b95-09625beae87b",
   "metadata": {},
   "source": [
    "In 1960, there were **39 Census tracts** that had 80% or more Black residents, an increase of 36 Census tracts or a **1200% growth rate!**\n",
    "\n",
    "Let's plot these."
   ]
  },
  {
   "cell_type": "code",
   "execution_count": null,
   "id": "18729a48-9015-44e0-9e18-7f567b0b5327",
   "metadata": {},
   "outputs": [],
   "source": [
    "df[df.Pct_black_60 > 80].plot(figsize=(12,10),\n",
    "                                             column='Pct_black_60',\n",
    "                                             legend=True, \n",
    "                                             scheme='NaturalBreaks')"
   ]
  },
  {
   "cell_type": "markdown",
   "id": "fb6ce3a2-47ea-4b16-a59a-32403d28aeaa",
   "metadata": {},
   "source": [
    "Let's place these plots side by side to better see the Black population density change from 1940 to 1960."
   ]
  },
  {
   "cell_type": "code",
   "execution_count": null,
   "id": "2c4fd1e0-826b-4c9d-82fc-1a36b2cbd03b",
   "metadata": {},
   "outputs": [],
   "source": [
    "# create the 1x2 subplots\n",
    "fig, axs2 = plt.subplots(1, 2, figsize=(15, 12))\n",
    "\n",
    "# name each subplot\n",
    "ax1a, ax2b = axs2\n",
    "\n",
    "# 1940 map on the left\n",
    "df[df.Pct_black_40 > 80].plot(column='Pct_black_40', \n",
    "            cmap='RdYlGn_r', \n",
    "            scheme='NaturalBreaks',\n",
    "            edgecolor='white', \n",
    "            linewidth=0., \n",
    "            alpha=0.75, \n",
    "            ax=ax1a, # this assigns the map to the subplot,\n",
    "            legend=True\n",
    "           )\n",
    "\n",
    "ax1a.axis(\"off\")\n",
    "ax1a.set_title(\"80%+ Black Census Tracts in Los Angeles County, 1940\")\n",
    "\n",
    "# 1960 on the right\n",
    "df[df.Pct_black_60 > 80].plot(column='Pct_black_60', \n",
    "            cmap='RdYlGn_r', \n",
    "            scheme='NaturalBreaks',\n",
    "            edgecolor='white', \n",
    "            linewidth=0., \n",
    "            alpha=0.75, \n",
    "            ax=ax2b, # this assigns the map to the subplot\n",
    "            legend=True\n",
    "           )\n",
    "\n",
    "ax2b.axis(\"off\")\n",
    "ax2b.set_title(\"80%+ Black Census Tracts in Los Angeles County, 1960\")"
   ]
  },
  {
   "cell_type": "markdown",
   "id": "29f7ac01-dc48-4008-ab89-0517b8f1dc0a",
   "metadata": {},
   "source": [
    "# <hl> Questions for Further Analysis"
   ]
  },
  {
   "cell_type": "markdown",
   "id": "86a15e94-ad4d-4bac-a6f4-8148a084bc1b",
   "metadata": {},
   "source": [
    "*How do you create a side-by-side chloropleth map focusing specifically on Census tracts 80%+?*\n",
    "\n",
    "Below is the code I used that gave me an error."
   ]
  },
  {
   "cell_type": "code",
   "execution_count": null,
   "id": "cf9933e3-a766-4e47-a22d-69c157743ab0",
   "metadata": {},
   "outputs": [],
   "source": [
    "import folium"
   ]
  },
  {
   "cell_type": "code",
   "execution_count": null,
   "id": "b7eae83b-92c1-4843-bf42-99d973dc58ec",
   "metadata": {},
   "outputs": [],
   "source": [
    "#m = folium.Map(location=[34.2,-118.2], \n",
    "#               zoom_start = 9,\n",
    "#               tiles='CartoDB positron', \n",
    "#               attribution='CartoDB')\n",
    "#\n",
    "# plot chorpleth over the base map\n",
    "#folium.Choropleth(\n",
    "#                  geo_data=df, # geo data\n",
    "#                  data=df, # data          \n",
    "#                  key_on='fCensus_tract', # key, or merge column\n",
    "#                  columns=['Census_tract', 'Pct_black_40'], # [key, value]\n",
    "#                  fill_color='BuPu',\n",
    "#                  line_weight=0.1, \n",
    "#                  fill_opacity=0.8,\n",
    "#                  line_opacity=0.2, # line opacity (of the border)\n",
    "#                  legend_name='Population Black (1940 Census Data)').add_to(m)    # name on the legend color bar\n",
    "# m"
   ]
  }
 ],
 "metadata": {
  "kernelspec": {
   "display_name": "Python 3 (ipykernel)",
   "language": "python",
   "name": "python3"
  },
  "language_info": {
   "codemirror_mode": {
    "name": "ipython",
    "version": 3
   },
   "file_extension": ".py",
   "mimetype": "text/x-python",
   "name": "python",
   "nbconvert_exporter": "python",
   "pygments_lexer": "ipython3",
   "version": "3.9.6"
  }
 },
 "nbformat": 4,
 "nbformat_minor": 5
}
